{
 "cells": [
  {
   "cell_type": "markdown",
   "metadata": {},
   "source": [
    "# Worksheet 1.2.0: Modules\n",
    "\n",
    "<div class=\"alert alert-block alert-info\">\n",
    "    This worksheet implements to-do markers where work needs to be completed. In some cases, this means that you'll need to add a line or two to an example. In other cases (such as the final exercise), you may need to solve an entire problem.\n",
    "</div>\n",
    "\n",
    "## Totally modular, bruh\n",
    "\n",
    "To this point, we've relied on either \"built-in\" or self-written code to create and run our programs. However, the universe of Python is mighty, and there are many ways that we can augment our programs by bringing in _other_ functionality from what are called _modules_.\n",
    "\n",
    "You may ask: \"Why don't we just have all of this stuff from the beginning?\" It's a good question.\n",
    "\n",
    "Without delving into all sorts of discussions about application performance, \"bloatware,\" and general difficulties with the idea of \"what do we include,\" it's enough to say that we don't need every bit of functionality _all the time_. For example, we haven't had to use any random numbers to this point, right?\n",
    "\n",
    "Today we will. To do so, we need to `import` the module by name. That's it:\n",
    "\n",
    "```python\n",
    "import random\n",
    "```\n",
    "\n",
    "The above is just Markdown, though, so you need to do it below.\n",
    "\n",
    "### 1. `import` the `random` module below."
   ]
  },
  {
   "cell_type": "code",
   "execution_count": null,
   "metadata": {},
   "outputs": [],
   "source": [
    "# TODO"
   ]
  },
  {
   "cell_type": "markdown",
   "metadata": {},
   "source": [
    "## Using the module\n",
    "\n",
    "OK. Now that we have that out of the way, we can _use it_. Doing so is similar how we used `string`s last week; `random` contains a bunch of methods, and we use the `dot notation` syntax to access them.\n",
    "\n",
    "| Method | Argument(s) |Effect |\n",
    "|--------|-------------|-------|\n",
    "|`.choice()`|Sequence or data structure to choose from| Chooses a random element from the argument(s) provided |\n",
    "|`.randint()`|Two `int`egers |Selects a random value in the range of the two provided `int`egers |\n",
    "|`.random()`|None | Generates a random number between `0.0` and `1.0` |\n",
    "|`.sample()`|Sequence or data structure, \"k\" value (`int`) (number of items to choose| Returns a random sample (no repeats) from the arugment(s) provided |\n",
    "|`.shuffle()`* |Sequence or data structure to \"shuffle\" | Rearranges the order of the argument(s) provided |\n",
    "\n",
    "`*`: Note that this _will permanently alter the list_.\n",
    "\n",
    "\n",
    "Here, when using the `random` module, we always refer to it as the `random` object, like so:"
   ]
  },
  {
   "cell_type": "code",
   "execution_count": null,
   "metadata": {},
   "outputs": [],
   "source": [
    "# Run this cell a few times to see how the values of the numbers change\n",
    "print(f\"A random number between 0.0 and 1.0: {random.random()}\")\n",
    "print(f\"A random number from 1-100: {random.randint(1,100)}\")"
   ]
  },
  {
   "cell_type": "markdown",
   "metadata": {},
   "source": [
    "Many of these methods have somewhat specific applications -- namely something like `sample`, often used to quickly demonstrate what a random sampling of a given sequence or data structure might be. This might seem equivalent to `choice`, but the outcomes differ:"
   ]
  },
  {
   "cell_type": "code",
   "execution_count": null,
   "metadata": {},
   "outputs": [],
   "source": [
    "# On any given day, I call my cat these names -- as you know\n",
    "cat_names = [\"Ulysses\", \"The Boss\", \"Mr. U\", \"Snooze Magoo\", \"Mane Man\", \"The Bug\", \"Buddy Bug Man\"]\n",
    "\n",
    "# Again, run this cell multiple times to see how the values change\n",
    "print(f\"A random sample of any 3 names: {random.sample(cat_names,3)}\")\n",
    "print(f\"A random choice of any name: {random.choice(cat_names)}\")"
   ]
  },
  {
   "cell_type": "markdown",
   "metadata": {},
   "source": [
    "The difference here is slight (one returns a `string`, the other a `list` of values), but the implications for any code are significant -- we have to handle what we get differently.\n",
    "\n",
    "### 2. Generate random numbers between the following ranges:\n",
    "\n",
    "`print` the result of each operation."
   ]
  },
  {
   "cell_type": "code",
   "execution_count": null,
   "metadata": {},
   "outputs": [],
   "source": [
    "# TODO: Generate number between 10 - 100\n",
    "# TODO: Generate number between 3 - 76\n",
    "# TODO: Generate number between 20 - 80"
   ]
  },
  {
   "cell_type": "markdown",
   "metadata": {},
   "source": [
    "### 3. `shuffle` the `cat_names` `list`"
   ]
  },
  {
   "cell_type": "code",
   "execution_count": null,
   "metadata": {},
   "outputs": [],
   "source": [
    "# Observe how the list changes\n",
    "print(f\"Before shuffle: {cat_names}\")\n",
    "# TODO: Shuffle list\n",
    "print(f\"After shuffle: {cat_names}\")"
   ]
  },
  {
   "cell_type": "markdown",
   "metadata": {},
   "source": [
    "## `datetime`\n",
    "\n",
    "Usually when we think about dates and times, they're essentially `string`s in our minds -- take today for instance: we'd normally think about it as \"Wednesday, the 27<sup>th</sup> of January, 2021.\" However, many of us have seen the math tricks which somehow make dates _computable_. Many of us don't want to occupy our time recalling dates in the past or forecasting what day of the week 27<sup>th</sup> of January, 2121 falls on -- so, we have a `module` that can help us with that or, even, tell us more about the _current week_.\n",
    "\n",
    "To acquire these powers -- abilities which we _don't always need_ (hence its place in a `module`), we run into another special issue: there are many parts to the `datetime` `module`. We could import them all (bringing the entirety of `datetime` into our program), or we could request only the portions we need, say, the ability to use `date`, and `timedelta` (the ability to do date \"math\") `objects` only. To do this, we would:\n",
    "\n",
    "```python\n",
    "from datetime import date\n",
    "from datetime import timedelta\n",
    "```\n",
    "\n",
    "Perform these `import`s in the cell below."
   ]
  },
  {
   "cell_type": "code",
   "execution_count": null,
   "metadata": {},
   "outputs": [],
   "source": [
    "# TODO"
   ]
  },
  {
   "cell_type": "markdown",
   "metadata": {},
   "source": [
    "`module`s can work differently based on how they're made, and `datetime` is a good example of this. While it still follows our \"rules,\" the rabbit hole goes a bit deeper with this one. For example, `module`s can create `objects` which have various `properties`, such as the date and time _right now_:"
   ]
  },
  {
   "cell_type": "code",
   "execution_count": null,
   "metadata": {},
   "outputs": [],
   "source": [
    "today = datetime.now()\n",
    "today # <-- I do this just to show what the object _looks like_ "
   ]
  },
  {
   "cell_type": "markdown",
   "metadata": {},
   "source": [
    "The above creates a `datetime` object representing _right now_. It has the following properties:\n",
    "\n",
    "* year\n",
    "* month\n",
    "* day\n",
    "* hour\n",
    "* minute\n",
    "* ...\n",
    "\n",
    "You get the point. But how do we access these? They're not quite `method`s -- I do refer to them as `properties` -- so they have a bit of a different syntax which loses the `()`:"
   ]
  },
  {
   "cell_type": "code",
   "execution_count": null,
   "metadata": {},
   "outputs": [],
   "source": [
    "print(today.year)\n",
    "print(today.month)\n",
    "print(today.day)"
   ]
  },
  {
   "cell_type": "markdown",
   "metadata": {},
   "source": [
    "Because a `property` doesn't exactly have an `argument` (how could you argue with today's year, for example?) there are no `parameters` or `arguments`. Instead, we're actually calling a variable directly from `datetime`, a behavior which we'll see when we talk more about making `object`s.\n",
    "\n",
    "Note that we still follow _dot notation_:\n",
    "\n",
    "$$ object.property $$\n",
    "\n",
    "format.\n",
    "\n",
    "That doesn't mean we don't have `method`s available to us. Here, I'll instead focus on a particular group and demonstrate how to use them. Then, I'll ask you to do some date math below.\n",
    "\n",
    "### All day\n",
    "\n",
    "By default, Python represents days of the week by a `0-indexed` integer, meaning that:\n",
    "\n",
    "|`integer`| Day |\n",
    "|---------|-----|\n",
    "|0 | Monday|\n",
    "|1 | Tuesday|\n",
    "|2 | Wednesday|\n",
    "|3 | Thursday| \n",
    "|4 | Friday|\n",
    "|5 | Saturday|\n",
    "|6 | Sunday |\n",
    "\n",
    "\n",
    "Today would use `datetime.now()` to establish the basic data, and then make `.weekday()` available to us:"
   ]
  },
  {
   "cell_type": "code",
   "execution_count": null,
   "metadata": {},
   "outputs": [],
   "source": [
    "today = datetime.now()\n",
    "print(today.weekday())"
   ]
  },
  {
   "cell_type": "markdown",
   "metadata": {},
   "source": [
    "If we wanted to be start being _truly \"Pythonic\"_ about it, we would \"chain\" them together:"
   ]
  },
  {
   "cell_type": "code",
   "execution_count": null,
   "metadata": {},
   "outputs": [],
   "source": [
    "day_of_week = datetime.now().weekday()\n",
    "print(day_of_week)"
   ]
  },
  {
   "cell_type": "markdown",
   "metadata": {},
   "source": [
    "If we revisit `string`s for a bit, we can see more of what I mean:"
   ]
  },
  {
   "cell_type": "code",
   "execution_count": null,
   "metadata": {},
   "outputs": [],
   "source": [
    "example = \"Today is a day of the week like any other.\"\n",
    "print(example.upper().replace(\".\",\"\").split()) # <-- I mean...why? But, everything worth doing is worth overdoing."
   ]
  },
  {
   "cell_type": "markdown",
   "metadata": {},
   "source": [
    "Of course, this is subject to comfortability. I bring this up here because you'll see steps combined more often than not when reading others' code.\n",
    "\n",
    "And, I digress -- back to `datetime`.\n",
    "\n",
    "Having days as numbers is great when we want to do math, like find out the date for last Monday, regardless of where we are in the week:"
   ]
  },
  {
   "cell_type": "code",
   "execution_count": null,
   "metadata": {},
   "outputs": [],
   "source": [
    "past_monday = today - timedelta(today.weekday())\n",
    "print(past_monday)"
   ]
  },
  {
   "cell_type": "markdown",
   "metadata": {},
   "source": [
    "(This works because Monday is `0`, hence today -- `2` -- sutracted from itself is `0`, or Monday.)\n",
    "\n",
    "We invoke the `timedelta` method directly from our `from datetime` import to do the \"delta\" (or \"difference\") in times. We could even _add_ time by using an integer to represent `7` days from now."
   ]
  },
  {
   "cell_type": "code",
   "execution_count": null,
   "metadata": {},
   "outputs": [],
   "source": [
    "next_monday = past_monday + timedelta(7)\n",
    "print(next_monday)"
   ]
  },
  {
   "cell_type": "markdown",
   "metadata": {},
   "source": [
    "And that's great. But, what's not so great is that format. We have the ability to do a bit better using some formatting specific to `datetime` through the `strftime` method (or \"string to formatted time\"):"
   ]
  },
  {
   "cell_type": "code",
   "execution_count": null,
   "metadata": {},
   "outputs": [],
   "source": [
    "print(past_monday.strftime(\"%A, %d %B, %Y\"))\n",
    "print(next_monday.strftime(\"%A, %d %B, %Y\"))"
   ]
  },
  {
   "cell_type": "markdown",
   "metadata": {},
   "source": [
    "As with anything specific to a module (such as expected arguments), this comes from reading into _how_ Python implements their dates. Here's a key to the above:\n",
    "\n",
    "|Symbol | Purpose |\n",
    "|-------|---------|\n",
    "|`%A`   | Full text day of week |\n",
    "|`%d`   | Two digit day |\n",
    "|`%B`   | Full text month |\n",
    "|`%Y`   | Four digit year |\n",
    "\n",
    "(A fuller table is [located here](https://docs.python.org/3/library/datetime.html#strftime-and-strptime-format-codes).)"
   ]
  },
  {
   "cell_type": "markdown",
   "metadata": {},
   "source": [
    "### 4. Calculate (and `print`) the following dates using today as a basis\n",
    "\n",
    "* Last Tuesday\n",
    "* Next Friday\n",
    "* One year from now\n",
    "* 21 years ago\n",
    "* 100 years into the future\n",
    "\n",
    "`print` each using `strftime` -- you might see what different combinations (uppercase/lowercase formatting symbols) do -- consult the table linked above."
   ]
  },
  {
   "cell_type": "code",
   "execution_count": null,
   "metadata": {},
   "outputs": [],
   "source": [
    "# TODO"
   ]
  },
  {
   "cell_type": "markdown",
   "metadata": {},
   "source": [
    "## Finishing this activity\n",
    "\n",
    "Challenge yourself with the [final activity](f1_week-1-worksheet-agenda.md)."
   ]
  }
 ],
 "metadata": {
  "kernelspec": {
   "display_name": "Python 3",
   "language": "python",
   "name": "python3"
  },
  "language_info": {
   "codemirror_mode": {
    "name": "ipython",
    "version": 3
   },
   "file_extension": ".py",
   "mimetype": "text/x-python",
   "name": "python",
   "nbconvert_exporter": "python",
   "pygments_lexer": "ipython3",
   "version": "3.8.5"
  }
 },
 "nbformat": 4,
 "nbformat_minor": 4
}
