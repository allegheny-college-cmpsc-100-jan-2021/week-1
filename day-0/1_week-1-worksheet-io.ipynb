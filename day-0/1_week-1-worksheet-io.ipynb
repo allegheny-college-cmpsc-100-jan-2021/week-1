{
 "cells": [
  {
   "cell_type": "markdown",
   "metadata": {},
   "source": [
    "# Week 06, Worksheet 1: Files\n",
    "\n",
    "`string`s are all sorts of fun. That is, until we run out of things to come up with -- which happens pretty fast. (Even I can entertain myself for only so long: just about 1 minute.)\n",
    "\n",
    "More often than not, using `string`s (and the practice of programming at-large) is the practice of working with files, or information stored _outside_ of a program. Here, we use the `open` function to access the file. Our use of this function features two parts:\n",
    "\n",
    "```python\n",
    "#   1. File's path (as string)\n",
    "#     |\n",
    "open(filename, mode)\n",
    "#              |\n",
    "#   2. File mode (see table below)\n",
    "```\n",
    "1. The `path` represents the location of the file\n",
    "2. The `mode` tells the function what kinds of work we might do on or with the file\n",
    "\n",
    "Modes include:\n",
    "\n",
    "|Mode |Purpose |\n",
    "|-----|--------|\n",
    "|`r`  |Read a file|\n",
    "|`w`  |Write to a file|\n",
    "|`a`  |Append to a file|\n",
    "\n",
    "This week, we'll focus on simply reading and writing to a file. First, let's read from a file:"
   ]
  },
  {
   "cell_type": "code",
   "execution_count": null,
   "metadata": {},
   "outputs": [],
   "source": [
    "# Fun fact: if you recognize any of the names in this poem, you've clearly seen the musical _Cats_.\n",
    "#           T.S. Eliot wrote the book on which that musical is based; this is its first poem.\n",
    "cat_poem = open(\"eliot_the_naming_of_cats.txt\",\"r\")"
   ]
  },
  {
   "cell_type": "markdown",
   "metadata": {},
   "source": [
    "Once our file is open, like any object in Python, we gain the ability to use certain _methods_ of it. In order to access the content, we need to use one of two methods which allow us to do so:\n",
    "\n",
    "1. `read`\n",
    "2. `readlines`\n",
    "\n",
    "(As in anything programming, there are many more ways to complete the above actions; as you extend your knowledge in programming -- particularly Python -- you'll discover them and likely opt to use other methods.)\n",
    "\n",
    "<div class=\"alert alert-block alert-warning\">\n",
    "    Using any one of these methods will <em>automatically consume the contents of the file</em>. This means that once one of these methods is used, the only way to access the file's contents is to <b>open</b> it again.\n",
    "</div>\n",
    "\n",
    "Below, we'll see what using the `read` method looks like."
   ]
  },
  {
   "cell_type": "code",
   "execution_count": null,
   "metadata": {},
   "outputs": [],
   "source": [
    "text = cat_poem.read()\n",
    "text"
   ]
  },
  {
   "cell_type": "markdown",
   "metadata": {},
   "source": [
    "Perhaps that wasn't quite what you expected -- however, sometimes we get exactly what we ask for. This is one of those times.\n",
    "\n",
    "`read` pulls in the exact contents of the file without respect to things like _control characters_ -- another important part of `string`s. Recall the use of `\\t` in the opening weeks of the course. Here, we see a new one, `\\n`, which indicates that a _new line_ should occur _exactly at that point_.\n",
    "\n",
    "Should we `print` the variable, we'll see the result of our _control character_ `\\n`."
   ]
  },
  {
   "cell_type": "code",
   "execution_count": null,
   "metadata": {},
   "outputs": [],
   "source": [
    "print(text)"
   ]
  },
  {
   "cell_type": "markdown",
   "metadata": {},
   "source": [
    "_Much_ better. But, I told you there were other ways to do this, so there must be some benefit. Let's look at `readlines`."
   ]
  },
  {
   "cell_type": "code",
   "execution_count": null,
   "metadata": {},
   "outputs": [],
   "source": [
    "cat_poem = open(\"eliot_the_naming_of_cats.txt\",\"r\")\n",
    "lines = cat_poem.readlines()\n",
    "print(lines)"
   ]
  },
  {
   "cell_type": "markdown",
   "metadata": {},
   "source": [
    "Curious. We get a `list` of `string`s containing all of the lines in the file _including_ the `\\n` control characters. This means that we can use useful _data structure_ operations on it like, for example:"
   ]
  },
  {
   "cell_type": "code",
   "execution_count": null,
   "metadata": {},
   "outputs": [],
   "source": [
    "# Counting the number of lines in the poem\n",
    "print(\"There are\", len(lines), \"lines in the poem.\")\n",
    "\n",
    "# Getting the second-to-last line\n",
    "print(lines[-2])\n",
    "\n",
    "# Getting a slice of the list from a spot in the middle\n",
    "print(lines[10:15])"
   ]
  },
  {
   "cell_type": "markdown",
   "metadata": {},
   "source": [
    "### Formatting\n",
    "\n",
    "Let's say, for argument's sake, we want to print the poem as poems are traditionally seen: line by line with line numbers to the left of the line, separated by some space. Ok, here we go:"
   ]
  },
  {
   "cell_type": "code",
   "execution_count": null,
   "metadata": {},
   "outputs": [],
   "source": [
    "print(\"The Naming of Cats\")\n",
    "print(\"  T.S. Eliot\")\n",
    "print()\n",
    "line_num = 1\n",
    "for line in lines:\n",
    "    print(line_num,line)\n",
    "    line_num += 1"
   ]
  },
  {
   "cell_type": "markdown",
   "metadata": {},
   "source": [
    "Cool and all, but what's with that space between the lines? \n",
    "\n",
    "Oh! We forgot that every line actually has an `\\n` character after it. To rid outselves of this `\\n`, we'll use a new method: `rstrip`.\n",
    "\n",
    "_And_, that number to the left looks a bit close. We _could_ solve this using our typical approach to `print`ing things. Or, we could learn a _new_ way to format out strings: the `f-string`.\n",
    "\n",
    "The `f-string` allows us to create a _template_ `string` -- something that holds the variables we want to `print` and the formatting we want to use to `print` them using slightly modified syntax:"
   ]
  },
  {
   "cell_type": "code",
   "execution_count": null,
   "metadata": {},
   "outputs": [],
   "source": [
    "line_num = 1\n",
    "\n",
    "print(\"The Naming of Cats\")\n",
    "# See what I did here with \\n?\n",
    "print(\"  T.S. Eliot\\n\")\n",
    "\n",
    "for line in lines:\n",
    "    print(f\"{line_num}\\t{line.rstrip()}\")\n",
    "    line_num += 1"
   ]
  },
  {
   "cell_type": "markdown",
   "metadata": {},
   "source": [
    "But, even that's a bit clunky -- _there're too many line numbers!_. Let's print a number to the left of every _five_ (5)."
   ]
  },
  {
   "cell_type": "code",
   "execution_count": null,
   "metadata": {},
   "outputs": [],
   "source": [
    "line_num = 1\n",
    "\n",
    "print(\"The Naming of Cats\")\n",
    "print(\"  T.S. Eliot\\n\")\n",
    "\n",
    "for line in lines:\n",
    "    # The \"%\" is called the modulus -- it asks if there's any remainder after division\n",
    "    if line_num % 5 == 0:\n",
    "        print(f\"{line_num}\\t{line.rstrip()}\")\n",
    "    else:\n",
    "        print(f\"\\t{line.rstrip()}\")\n",
    "    line_num += 1"
   ]
  },
  {
   "cell_type": "markdown",
   "metadata": {},
   "source": [
    "Much better!\n",
    "\n",
    "### Finishing this activity\n",
    "\n",
    "Test yourself by completing the [final activity](f2_week-1-worksheet-yeats.md)!\n"
   ]
  }
 ],
 "metadata": {
  "kernelspec": {
   "display_name": "Python 3",
   "language": "python",
   "name": "python3"
  },
  "language_info": {
   "codemirror_mode": {
    "name": "ipython",
    "version": 3
   },
   "file_extension": ".py",
   "mimetype": "text/x-python",
   "name": "python",
   "nbconvert_exporter": "python",
   "pygments_lexer": "ipython3",
   "version": "3.8.5"
  }
 },
 "nbformat": 4,
 "nbformat_minor": 4
}
