{
 "cells": [
  {
   "cell_type": "markdown",
   "metadata": {},
   "source": [
    "# Worksheet 1.0.0: Strings\n",
    "\n",
    "<div class=\"alert alert-block alert-info\">\n",
    "    This worksheet implements to-do markers where work needs to be completed. In some cases, this means that you'll need to add a line or two to an example. In other cases (such as the final exercise), you may need to solve an entire problem.\n",
    "</div>\n",
    "\n",
    "## `string`ing you along\n",
    "\n",
    "To this point in the semester, we've worked with `string` objects largely through `print` statements. While we will still do some of that, this week, we're exploring the more advanced world of what lies beneath the surface.\n",
    "\n",
    "### What is a string?\n",
    "\n",
    "The \"textbook\" definition of the `string` is that it's simply a collection of _symbols_. These symbols can be anything that is computer-recognizable. Typically this means letters (`qweituortrgdafgdg`), symbols (`##@*!#!)` -- again, I'm not _that_ upset about it), or numbers-as-symbols. This last one is a little strange. Just remember that:\n",
    "\n",
    "$$ 4 \\neq{\"4\"} $$\n",
    "\n",
    "One of the above, `4` is the _integer_ representation -- a number. The other, `\"4\"` is the `string` representation of the symbol `4`. This is why we get the lovely `TypeError` in when we attempt to do the following:\n",
    "\n",
    "```\n",
    "---------------------------------------------------------------------------\n",
    "TypeError                                 Traceback (most recent call last)\n",
    "<ipython-input-1-ebbc32cdfe85> in <module>\n",
    "----> 1 s = 4  + \"4\"\n",
    "\n",
    "TypeError: unsupported operand type(s) for +: 'int' and 'str'\n",
    "```\n",
    "\n",
    "Back to the definition: we can then say that a `string` is simply a group of symbols known as _characters_ which can display nearly anything that language can provide.\n",
    "\n",
    "But, I can also tell you that your computer doesn't actually care about the symbol. That's just a human convenience. All a system really cares about is that _each symbol is stored at a different place_ in a gigantic set of characters called the Unicode Coded Character Set (or just \"Unicode\"). Speaking of the majority of English-language characters, we can say they're stored in a _subset_ (that is, smaller portion of) this standard that we call [ASCII (the American Standard Code for Information Interchange)](http://www.asciitable.com/).\n",
    "\n",
    "This table, known as the \"ASCII Table\" contains entries for various letters which refer to decimal (or `DEC`) representations of symbols which actually refer to letters. Here's what that looks like from a programming perspective:"
   ]
  },
  {
   "cell_type": "code",
   "execution_count": null,
   "metadata": {},
   "outputs": [],
   "source": [
    "# Notice that they're different\n",
    "\n",
    "print(\"The ASCII character code for 'a':\",ord(\"a\"))\n",
    "print(\"The ASCII character code for 'A':\",ord(\"A\"))"
   ]
  },
  {
   "cell_type": "markdown",
   "metadata": {},
   "source": [
    "Here, we use a built-in function called `ord` to get the _ordinal_ (that is the Unicode \"code point\" -- address of) a given character. Again, because the _symbol_ `A` looks and behaves distinctly differently from the symbol `a`, their addresses in the table are _different_. Try it for yourself below.\n",
    "\n",
    "#### 1a. `print` the ordinal values of at least `4` different characters or symbols."
   ]
  },
  {
   "cell_type": "code",
   "execution_count": null,
   "metadata": {},
   "outputs": [],
   "source": [
    "# TODO"
   ]
  },
  {
   "cell_type": "markdown",
   "metadata": {},
   "source": [
    "If we have _ordinal_ values (numbers), we can turn them back into characters using `ord`'s opposite, `chr` using the same syntax as we would for `ord`.\n",
    "\n",
    "1b. `print` the character values of the following `5` ordinal values:\n",
    "\n",
    "* `71`\n",
    "* `46`\n",
    "* `87`\n",
    "* `105`\n",
    "* `122`"
   ]
  },
  {
   "cell_type": "code",
   "execution_count": null,
   "metadata": {},
   "outputs": [],
   "source": [
    "# TODO"
   ]
  },
  {
   "cell_type": "markdown",
   "metadata": {},
   "source": [
    "### Full disclosure\n",
    "\n",
    "I am required by the Ethical Code of All Computer Science Teachers<sup>TM</sup> to make you aware of the fact that I've been telling you a convenient lie all semester.\n",
    "\n",
    "<img src = \"https://i.imgflip.com/4i1d15.jpg\">\n",
    "\n",
    "This is because `string` objects, while appearing like any other _data type_ (`float`, `int`, `boolean`, et al.) really _aren't_. We can treat `string`s like a _data type_ **and** a _data structure_. \n",
    "\n",
    "Let's take a look at an example."
   ]
  },
  {
   "cell_type": "code",
   "execution_count": null,
   "metadata": {},
   "outputs": [],
   "source": [
    "cat_name = \"Ulysses\"\n",
    "\n",
    "for letter in cat_name:\n",
    "    print(letter)"
   ]
  },
  {
   "cell_type": "markdown",
   "metadata": {},
   "source": [
    "Notice that _each `character`_ `print`s on a separate line. This is because `string`s function a lot like a _data structure_ -- specifically `list`s. \n",
    "\n",
    "### Similarities to `list`s\n",
    "\n",
    "* a _known length_\n",
    "* access via _indexes_\n",
    "* the abilty to _slice_ them\n",
    "* ability to iterate over them"
   ]
  },
  {
   "cell_type": "code",
   "execution_count": null,
   "metadata": {},
   "outputs": [],
   "source": [
    "# known length\n",
    "print(\"cat_name length:\", len(cat_name))\n",
    "\n",
    "# access via index\n",
    "print(\"cat_name index 4:\", cat_name[4])\n",
    "\n",
    "# ability to slice\n",
    "print(\"cat_name sliced:\", cat_name[2:5])\n",
    "\n",
    "print(\"Iteration:\")\n",
    "for letter in cat_name:\n",
    "    print(letter)"
   ]
  },
  {
   "cell_type": "markdown",
   "metadata": {},
   "source": [
    "### Differences from `list`s\n",
    "\n",
    "* `string`s are _immutable_: we can't change them _directly_\n",
    "* different _methods_ than a `list`\n",
    "* `string`s only accept `string` data (we can't mix data types)\n",
    "\n",
    "#### Methods\n",
    "\n",
    "We've learned a bit about _methods_ in this course, though we can't spent a lot of time with them. Specifically, we know things like `append` and `remove` vis-a-vis our use of them with `list`s. REgardless of the object type we're working with, the syntax is always the same:\n",
    "\n",
    "$$ variable\\_name.method\\_name(arguments) $$\n",
    "\n",
    "As concerns `string`s, we have quite a few things we can do with them (this is a _small sampling_):\n",
    "\n",
    "| Method | Argument(s) |Effect | Example |\n",
    "|--------|-------------|-------|---------|\n",
    "|`.lower()`|None | Converts entire string to lower case | `a_string.lower()` |\n",
    "|`.upper()`|None |Converts entire string to upper case | `a_string.upper()` |\n",
    "|`.count()`|`string` to count instances of|Counts the number of times a given substring appears in a `string`| `a_string.count(\"a\")` |\n",
    "|`.endswith()`|`string`/`tuple` of `string`s to look for | Returns `boolean` if string does/n't end with `string` argument | `a_string.endswith(\"ing\")`|\n",
    "|`.startswith()`|`string`/`tuple` of `string`s to look for| Returns `boolean` if string does/n't start with `string` argument | `a_string.startswith(\"re\")`|\n",
    "|`.replace()`|`string` to find, `string` to replace it with, `integer` times to replace| Replace searched string with specified replacement `N` times| `a_string.replace(\"Ulysses\",\"Boss\")` |\n",
    "|`.split()`|`string` on which to to \"split\" `string` (default: spaces) |Splits a `string` into parts (a `list`)| `a_string.split(\",\")`|\n",
    "|`.join()`|`list` to \"glue\" together into a string|Fuses a `string` together from a `list` of `string`s| `\",\".join(a_lsit)`|\n",
    "\n",
    "In the above table, `join()` behaves a bit differently than the others. See the following:"
   ]
  },
  {
   "cell_type": "code",
   "execution_count": null,
   "metadata": {},
   "outputs": [],
   "source": [
    "sentences = [\"It was the best of times\",\"it was the worst of times.\"]\n",
    "\", \".join(sentences)"
   ]
  },
  {
   "cell_type": "markdown",
   "metadata": {},
   "source": [
    "The \"glue\" (the `string` that joins the two `list`s together) comes _first_.\n",
    "\n",
    "#### Detour into `string` immutability\n",
    "\n",
    "We say a `string` is \"immutable,\" though clearly some of the methods above alter the contents of a `string`. Let's observe this hands on."
   ]
  },
  {
   "cell_type": "code",
   "execution_count": null,
   "metadata": {},
   "outputs": [],
   "source": [
    "introduction = \"My cat's name is Ulysses.\"\n",
    "print(introduction.replace(\"Ulysses\",\"The Boss\"))\n",
    "print(introduction)"
   ]
  },
  {
   "cell_type": "markdown",
   "metadata": {},
   "source": [
    "As we can see in the above example, calling the `replace` method on the `string` _doesn't change the underlying `string`_ (as shown when we `print` it again at the end). Instead, it creates a new copy of the `string` which contains the replacement. This is what we mean when we say that `strings` are _immutable_ -- unless we re/assign them, the original data doesn't change.\n",
    "\n",
    "#### 2. Complete the following examples."
   ]
  },
  {
   "cell_type": "code",
   "execution_count": null,
   "metadata": {},
   "outputs": [],
   "source": [
    "# Example 1\n",
    "\n",
    "while True:\n",
    "    choice = input(\"Tell me something (enter [N]o to quit): \")\n",
    "    if # TODO use the upper method on choice to make either \"n\" or \"N\" valid choices to end the loop\n",
    "        print(\"Stop telling me stuff!\")\n",
    "        break"
   ]
  },
  {
   "cell_type": "code",
   "execution_count": null,
   "metadata": {},
   "outputs": [],
   "source": [
    "# Example 2\n",
    "\n",
    "animals = [\"cat\",\"rat\",\"antelope\",\"bat\",\"anteater\",\"ant\",\"abalone\",\"python\",\"Ulysses\"]\n",
    "for animal in animals:\n",
    "    # TODO Finish the following statement to print `True` if an animal's name starts with the letter \"a\"\n",
    "    print(animal + \":\",# TODO)"
   ]
  },
  {
   "cell_type": "code",
   "execution_count": null,
   "metadata": {},
   "outputs": [],
   "source": [
    "# Example 3\n",
    "\n",
    "# This is a lie\n",
    "bad_message = \"My cat Ulysses is the worst.\"\n",
    "# TODO Use the replace method to substitute the word \"worst\" for the word \"best\";\n",
    "#      assign the output to good_message\n",
    "print(good_message)"
   ]
  },
  {
   "cell_type": "code",
   "execution_count": null,
   "metadata": {},
   "outputs": [],
   "source": [
    "# Example 4\n",
    "\n",
    "quote = \"Colorless green ideas sleep furiously.\"\n",
    "\n",
    "\n",
    "words = # TODO: Split quote on spaces\n",
    "print(words)\n",
    "\n",
    "joined = # TODO: join words together using spaces\n",
    "print(joined)"
   ]
  },
  {
   "cell_type": "code",
   "execution_count": null,
   "metadata": {},
   "outputs": [],
   "source": [
    "# Example 5\n",
    "\n",
    "verse = \"Betty bought some butter, but the butter was bitter, so Betty bought some better butter to make the bitter butter better.\"\n",
    "\n",
    "words = []\n",
    "\n",
    "# TODO Count the number of words that start with the letter b, display those words in a list\n",
    "\n",
    "print(words)"
   ]
  },
  {
   "cell_type": "markdown",
   "metadata": {},
   "source": [
    "### \"Control\" characters\n",
    "\n",
    "While we've been thinking about `string`s as visible characters -- letters, numbers, symbols, et al. -- they can also contain _nonprinting_ characters that perform various formatting tasks. Among the most use:\n",
    "\n",
    "| Control character | Purpose |\n",
    "|-------------------|---------|\n",
    "| `\\n`              | Insert a new line |\n",
    "| `\\t`              | Insert a tab |\n",
    "\n",
    "It's easier to see how these work by looking at examples."
   ]
  },
  {
   "cell_type": "code",
   "execution_count": null,
   "metadata": {},
   "outputs": [],
   "source": [
    "# New line\n",
    "\n",
    "print(\"This is one sentence.\\nAnd this is another!\")"
   ]
  },
  {
   "cell_type": "markdown",
   "metadata": {},
   "source": [
    "Notice that these are written in the `print` function as _one_ line, but actually print as _two_! Of course, we can chain any number of these together:"
   ]
  },
  {
   "cell_type": "code",
   "execution_count": null,
   "metadata": {},
   "outputs": [],
   "source": [
    "print(\"It all looks like one line.\\nBut, we know it's not!\\nWhen we run the code, it's simple to see.\")"
   ]
  },
  {
   "cell_type": "markdown",
   "metadata": {},
   "source": [
    "Knowing this will come in extra handy in our next worksheet! For now, let's look at the other one we've picked out: `\\t`."
   ]
  },
  {
   "cell_type": "code",
   "execution_count": null,
   "metadata": {},
   "outputs": [],
   "source": [
    "# Tab\n",
    "\n",
    "print(\"Name:\\tG. Wiz\")\n",
    "print(\"Type:\\tGator\")\n",
    "print(\"Job:\\tWizard\")\n",
    "print(\"Description:\\tA gator who is also a wizard whose name is G. Wiz.\")"
   ]
  },
  {
   "cell_type": "markdown",
   "metadata": {},
   "source": [
    "#### Use nonprinting characters `\\n` and `\\t` to print the following examples.\n",
    "\n",
    "\n",
    "##### 3a. `print` the following haiku using only `1` `print` statement\n",
    "\n",
    "(G. Wiz thinks this is their best work yet.)\n",
    "\n",
    "```\n",
    "Yep. I'm a gator.\n",
    "You think that's strange? Well, also\n",
    "I practice magic.\n",
    "```"
   ]
  },
  {
   "cell_type": "code",
   "execution_count": null,
   "metadata": {},
   "outputs": [],
   "source": [
    "# TODO"
   ]
  },
  {
   "cell_type": "markdown",
   "metadata": {},
   "source": [
    "##### 3b. `print` the following using `\\t` _and_ `\\n` characters.\n",
    "\n",
    "```\n",
    "1    2    3\n",
    "4    5    6\n",
    "7    8    9\n",
    "```\n",
    "\n",
    "(If you're up to the challenge, can you do this with a loop? You will need to use the `%` operator, which tests if a value is divisible by an integer.)"
   ]
  },
  {
   "cell_type": "code",
   "execution_count": null,
   "metadata": {},
   "outputs": [],
   "source": [
    "# TODO"
   ]
  },
  {
   "cell_type": "markdown",
   "metadata": {},
   "source": [
    "### `f`ormatting your `string`s"
   ]
  },
  {
   "cell_type": "markdown",
   "metadata": {},
   "source": [
    "Gone are the days of using `+` and `,` in your print statements! As you may have noticed at the end of last week's lab, there's a strange way of printing _formatted strings_ (or, `f-string`s).\n",
    "\n",
    "Take a look at the difference:"
   ]
  },
  {
   "cell_type": "code",
   "execution_count": null,
   "metadata": {},
   "outputs": [],
   "source": [
    "# I'm apparently hungry\n",
    "\n",
    "loaves = 6\n",
    "kind = \"rye\"\n",
    "\n",
    "print(\"I have\",loaves,\"loaves of \" + kind + \" bread.\")"
   ]
  },
  {
   "cell_type": "code",
   "execution_count": null,
   "metadata": {},
   "outputs": [],
   "source": [
    "# That's too complicated; plus, I found some more bread.\n",
    "loaves += 4\n",
    "#\n",
    "#  Prepend the string with an f\n",
    "#     |\n",
    "#     |     Include variables surrounded by {}\n",
    "#     |           |                  |\n",
    "print(f\"I have {loaves} loaves of {kind} bread.\")"
   ]
  },
  {
   "cell_type": "markdown",
   "metadata": {},
   "source": [
    "As long as we follow the rules that we already know about creating variables, we can do all kinds of calculations and insert their results into `string`s! We can even insert nonprinting characters!"
   ]
  },
  {
   "cell_type": "code",
   "execution_count": null,
   "metadata": {},
   "outputs": [],
   "source": [
    "breads = {\n",
    "    \"pumpernickel\": 10,\n",
    "    \"challah\": 1000,\n",
    "    \"8 grain\": 2,\n",
    "    \"sourdough\": 0 # Nope\n",
    "}\n",
    "\n",
    "for bread in breads:\n",
    "    count = breads[bread]\n",
    "    print(f\"{bread}:\\t{count}\")"
   ]
  },
  {
   "cell_type": "markdown",
   "metadata": {},
   "source": [
    "#### 4. Complete the following example\n",
    "\n",
    "`print` the contents of the following table:\n",
    "    \n",
    "|Bird type | # seen |\n",
    "|----------|--------|\n",
    "|Crow      | 10 |\n",
    "|Gull      | 2  |\n",
    "|Pigeon    | 1  |\n",
    "|Grackle   | 0  |\n",
    "|Hawk      | 1  |\n",
    "\n",
    "* You will need to create a `dictionary` to house the table's data\n",
    "* Iterate over your `dictionary` with a `for` loop\n",
    "* Separate `key`s or `value`s with `\\t` characters\n",
    "  * Use `f-string`s for this!\n",
    "\n",
    "The final output should appear like this:\n",
    "\n",
    "```\n",
    "Crow\t10\n",
    "Gull\t2\n",
    "Pigeon  1\n",
    "Grackle 0\n",
    "Hawk\t1\n",
    "```"
   ]
  },
  {
   "cell_type": "code",
   "execution_count": null,
   "metadata": {},
   "outputs": [],
   "source": [
    "# TODO"
   ]
  },
  {
   "cell_type": "markdown",
   "metadata": {},
   "source": [
    "### Finishing this activity\n",
    "\n",
    "Test yourself by completing the [final activity](f1_week-1-worksheet-letters.md)!"
   ]
  }
 ],
 "metadata": {
  "kernelspec": {
   "display_name": "Python 3",
   "language": "python",
   "name": "python3"
  },
  "language_info": {
   "codemirror_mode": {
    "name": "ipython",
    "version": 3
   },
   "file_extension": ".py",
   "mimetype": "text/x-python",
   "name": "python",
   "nbconvert_exporter": "python",
   "pygments_lexer": "ipython3",
   "version": "3.8.5"
  }
 },
 "nbformat": 4,
 "nbformat_minor": 4
}
