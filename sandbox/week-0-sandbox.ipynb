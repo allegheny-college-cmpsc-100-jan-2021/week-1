{
 "cells": [
  {
   "cell_type": "markdown",
   "metadata": {
    "deletable": false,
    "editable": false
   },
   "source": [
    "# CMPSC 100: `Week 1` Sandbox\n",
    "\n",
    "---\n",
    "\n",
    "In the computer science world, a \"sandbox\" is almost exactly what it is in the real world: a place to, effectively, \"play.\" \n",
    "\n",
    "## Usage\n",
    "\n",
    "First and foremost, this space is for *you*. \n",
    "\n",
    "Use this notebook to try out code presented in class or do self-guided exploration. Your instructor may reference this notebook and ask that you write some code in it to follow along with in-class exercises or live programming.\n",
    "\n",
    "I also encourage you to use this as a space to take notes as you participate in discussions or practice coding concepts on your own.\n",
    "\n",
    "### Reminders\n",
    "\n",
    "The following key combinations and shortcuts will speed your work in this notebook.\n",
    "\n",
    "#### With cursor in cell\n",
    "\n",
    "| Key(s) | Outcome |\n",
    "|:-|:-|\n",
    "| `Enter` | Adds a new line in the current cell |\n",
    "| `Shift` + `Enter` | Runs the current cell and moves to the first cell below |\n",
    "| `Ctrl` + `Enter` | Runs the current cell; cursor remains in cell |\n",
    "| `Alt` + `Enter` | Runs current cell and inserts new cell below ||\n",
    "\n",
    "#### With cell selected\n",
    "\n",
    "| Key(s) | Outcome |\n",
    "|:-|:-|\n",
    "| `A` | Add cell above current cell |\n",
    "| `B` | Add cell below current cell |\n",
    "| `D` | Delete current cell |\n",
    "| `Shift` + `M` | Merge current cell with below |\n",
    "| `M` | Changes current cell to Markdown format|\n",
    "| `Y` | Changes current cell to code format |\n",
    "\n",
    "\n",
    "## Helpful readings\n",
    "\n",
    "The readings below are meant to serve as references for you as you explore practical use of our course's platforms. As always, however, feel free to reach out to your instructors or post questions in our course [Slack](https://cmpsc-100-00-ja-2021.slack.com).\n",
    "\n",
    "### Using Jupyter notebooks\n",
    "\n",
    "For questions about using a Jupyter Notebook, our colleagues at Bryn Mawr created a [Jupyter Notebook User's Manual](https://jupyter.brynmawr.edu/services/public/dblank/Jupyter%20Notebook%20Users%20Manual.ipynb) which answers basic and advanced questions about the platform.\n",
    "\n",
    "### Markdown\n",
    "\n",
    "I strongly recommend reading the [Mastering Markdown](https://guides.github.com/features/mastering-markdown/) guide to serve as a Markdown reference."
   ]
  },
  {
   "cell_type": "markdown",
   "metadata": {},
   "source": [
    "## Sandbox"
   ]
  },
  {
   "cell_type": "code",
   "execution_count": 1,
   "metadata": {},
   "outputs": [],
   "source": [
    "a_string = \"Ulysses is the best cat!\""
   ]
  },
  {
   "cell_type": "code",
   "execution_count": 2,
   "metadata": {},
   "outputs": [
    {
     "data": {
      "text/plain": [
       "85"
      ]
     },
     "execution_count": 2,
     "metadata": {},
     "output_type": "execute_result"
    }
   ],
   "source": [
    "ord(\"U\")"
   ]
  },
  {
   "cell_type": "code",
   "execution_count": 3,
   "metadata": {},
   "outputs": [
    {
     "data": {
      "text/plain": [
       "'U'"
      ]
     },
     "execution_count": 3,
     "metadata": {},
     "output_type": "execute_result"
    }
   ],
   "source": [
    "chr(85)"
   ]
  },
  {
   "cell_type": "code",
   "execution_count": 7,
   "metadata": {},
   "outputs": [
    {
     "ename": "TypeError",
     "evalue": "unsupported operand type(s) for /: 'str' and 'int'",
     "output_type": "error",
     "traceback": [
      "\u001b[0;31m---------------------------------------------------------------------------\u001b[0m",
      "\u001b[0;31mTypeError\u001b[0m                                 Traceback (most recent call last)",
      "\u001b[0;32m<ipython-input-7-4d4ed8d0936c>\u001b[0m in \u001b[0;36m<module>\u001b[0;34m\u001b[0m\n\u001b[1;32m      1\u001b[0m \u001b[0ma\u001b[0m \u001b[0;34m=\u001b[0m \u001b[0;34m\"4\"\u001b[0m\u001b[0;34m\u001b[0m\u001b[0;34m\u001b[0m\u001b[0m\n\u001b[0;32m----> 2\u001b[0;31m \u001b[0ma\u001b[0m\u001b[0;34m/\u001b[0m\u001b[0;36m2\u001b[0m\u001b[0;34m\u001b[0m\u001b[0;34m\u001b[0m\u001b[0m\n\u001b[0m",
      "\u001b[0;31mTypeError\u001b[0m: unsupported operand type(s) for /: 'str' and 'int'"
     ]
    }
   ],
   "source": [
    "a = \"4\"\n",
    "a/2"
   ]
  },
  {
   "cell_type": "code",
   "execution_count": 15,
   "metadata": {},
   "outputs": [
    {
     "name": "stdout",
     "output_type": "stream",
     "text": [
      "It was the best\n",
      "of\n",
      "times.\n",
      "It\twas the worst of times.\n"
     ]
    }
   ],
   "source": [
    "dickens = \"It was the best\\nof\\ntimes.\\nIt\\twas the worst of times.\"\n",
    "print(dickens)"
   ]
  },
  {
   "cell_type": "code",
   "execution_count": 16,
   "metadata": {},
   "outputs": [
    {
     "name": "stdout",
     "output_type": "stream",
     "text": [
      "G\n",
      ".\n",
      " \n",
      "W\n",
      "i\n",
      "z\n"
     ]
    }
   ],
   "source": [
    "name = \"G. Wiz\"\n",
    "\n",
    "for letter in name: # <-- \"loop\" over the contents of\n",
    "    print(letter)"
   ]
  },
  {
   "cell_type": "code",
   "execution_count": 19,
   "metadata": {},
   "outputs": [
    {
     "name": "stdout",
     "output_type": "stream",
     "text": [
      "G.\n"
     ]
    }
   ],
   "source": [
    "print(name[0:2])"
   ]
  },
  {
   "cell_type": "code",
   "execution_count": 21,
   "metadata": {},
   "outputs": [
    {
     "name": "stdout",
     "output_type": "stream",
     "text": [
      "6\n"
     ]
    }
   ],
   "source": [
    "name_len = len(name)\n",
    "print(name_len)"
   ]
  },
  {
   "cell_type": "code",
   "execution_count": 22,
   "metadata": {},
   "outputs": [
    {
     "name": "stdout",
     "output_type": "stream",
     "text": [
      "G. Wiz\n"
     ]
    }
   ],
   "source": [
    "print(name)"
   ]
  },
  {
   "cell_type": "code",
   "execution_count": 23,
   "metadata": {},
   "outputs": [
    {
     "name": "stdout",
     "output_type": "stream",
     "text": [
      "g. wiz\n"
     ]
    }
   ],
   "source": [
    "print(name.lower())"
   ]
  },
  {
   "cell_type": "code",
   "execution_count": 24,
   "metadata": {},
   "outputs": [
    {
     "name": "stdout",
     "output_type": "stream",
     "text": [
      "G. WIZ\n"
     ]
    }
   ],
   "source": [
    "print(name.upper())"
   ]
  },
  {
   "cell_type": "code",
   "execution_count": 29,
   "metadata": {},
   "outputs": [
    {
     "name": "stdout",
     "output_type": "stream",
     "text": [
      "3\n"
     ]
    }
   ],
   "source": [
    "name = \"Ulysses\"\n",
    "print(name.count(\"s\"))"
   ]
  },
  {
   "cell_type": "code",
   "execution_count": 32,
   "metadata": {},
   "outputs": [
    {
     "name": "stdout",
     "output_type": "stream",
     "text": [
      "cat, rat, dog, emu, cow\n"
     ]
    }
   ],
   "source": [
    "animals = [\"cat\",\"rat\",\"dog\",\"emu\",\"cow\"]\n",
    "# Join works differently\n",
    "animal_str = \", \".join(animals)\n",
    "print(animal_str)"
   ]
  },
  {
   "cell_type": "code",
   "execution_count": 35,
   "metadata": {},
   "outputs": [
    {
     "name": "stdin",
     "output_type": "stream",
     "text": [
      "Enter a number:  4\n"
     ]
    },
    {
     "name": "stdout",
     "output_type": "stream",
     "text": [
      "Oh, you entered: 4.\n"
     ]
    }
   ],
   "source": [
    "number= input(\"Enter a number: \")\n",
    "number = int(number)\n",
    "print(f\"Oh, you entered: {number}.\")"
   ]
  },
  {
   "cell_type": "code",
   "execution_count": 49,
   "metadata": {},
   "outputs": [],
   "source": [
    "poem = open(\"eliot_the_naming_of_cats.txt\",\"r\")"
   ]
  },
  {
   "cell_type": "code",
   "execution_count": 50,
   "metadata": {},
   "outputs": [
    {
     "name": "stdout",
     "output_type": "stream",
     "text": [
      "The Naming of Cats is a difficult matter,\n",
      "It isn’t just one of your holiday games;\n",
      "You may think at first I’m as mad as a hatter\n",
      "When I tell you, a cat must have THREE DIFFERENT NAMES.\n",
      "First of all, there’s the name that the family use daily,\n",
      "Such as Peter, Augustus, Alonzo, or James,\n",
      "Such as Victor or Jonathan, George or Bill Bailey—\n",
      "All of them sensible everyday names.\n",
      "There are fancier names if you think they sound sweeter,\n",
      "Some for the gentlemen, some for the dames:\n",
      "Such as Plato, Admetus, Electra, Demeter—\n",
      "But all of them sensible everyday names,\n",
      "But I tell you, a cat needs a name that’s particular,\n",
      "A name that’s peculiar, and more dignified,\n",
      "Else how can he keep up his tail perpendicular,\n",
      "Or spread out his whiskers, or cherish his pride?\n",
      "Of names of this kind, I can give you a quorum,\n",
      "Such as Munkustrap, Quaxo, or Coricopat,\n",
      "Such as Bombalurina, or else Jellylorum—\n",
      "Names that never belong to more than one cat.\n",
      "But above and beyond there’s still one name left over,\n",
      "And that is the name that you never will guess;\n",
      "The name that no human research can discover—\n",
      "But THE CAT HIMSELF KNOWS, and will never confess.\n",
      "When you notice a cat in profound meditation,\n",
      "The reason, I tell you, is always the same:\n",
      "His mind is engaged in a rapt contemplation\n",
      "Of the thought, of the thought, of the thought of his name:\n",
      "His ineffable effable\n",
      "Effanineffable\n",
      "Deep and inscrutable singular name.\n"
     ]
    }
   ],
   "source": [
    "lines = poem.readlines()\n",
    "\n",
    "for line in lines:\n",
    "    print(line.strip())  # <-- print automatically inserts a \\n"
   ]
  },
  {
   "cell_type": "code",
   "execution_count": 55,
   "metadata": {},
   "outputs": [],
   "source": [
    "number = 11\n",
    "\n",
    "if number % 5 == 0:\n",
    "    print(\"This is a multiple of 5.\")"
   ]
  },
  {
   "cell_type": "code",
   "execution_count": 63,
   "metadata": {},
   "outputs": [
    {
     "name": "stdin",
     "output_type": "stream",
     "text": [
      "Title of potion:  Gator potion\n",
      "Add an ingredient:  Gator claw\n",
      "Add an ingredient:  Cat whisker\n",
      "Add an ingredient:  Gator scale\n",
      "Add an ingredient:  \n"
     ]
    },
    {
     "name": "stdout",
     "output_type": "stream",
     "text": [
      "Gator potion\n",
      "\n",
      "Gator claw\n",
      "Cat whisker\n",
      "Gator scale\n"
     ]
    }
   ],
   "source": [
    "potion = {\n",
    "  \"title\": \"\",\n",
    "  \"ingredients\": []\n",
    "}\n",
    "title = input(\"Title of potion: \")\n",
    "potion[\"title\"] = title\n",
    "\n",
    "while True:\n",
    "  ingredient = input(\"Add an ingredient: \")\n",
    "  if ingredient == \"\" or title == \"\":\n",
    "    break\n",
    "  potion[\"ingredients\"].append(ingredient)\n",
    "\n",
    "print(potion[\"title\"])\n",
    "print()\n",
    "\n",
    "for ingredient in potion[\"ingredients\"]:\n",
    "  print(ingredient)"
   ]
  },
  {
   "cell_type": "code",
   "execution_count": 62,
   "metadata": {},
   "outputs": [
    {
     "data": {
      "text/plain": [
       "False"
      ]
     },
     "execution_count": 62,
     "metadata": {},
     "output_type": "execute_result"
    }
   ],
   "source": [
    "# assignment\n",
    "\n",
    "a = 3\n",
    "\n",
    "# evaluate; ask for equivalence\n",
    "\n",
    "a == 2 # < Whenever we want to test for equivalence\n",
    "\n",
    "# if number == 0:\n",
    "# if number != 0:"
   ]
  },
  {
   "cell_type": "code",
   "execution_count": null,
   "metadata": {},
   "outputs": [],
   "source": []
  }
 ],
 "metadata": {
  "celltoolbar": "Raw Cell Format",
  "kernelspec": {
   "display_name": "Python 3",
   "language": "python",
   "name": "python3"
  },
  "language_info": {
   "codemirror_mode": {
    "name": "ipython",
    "version": 3
   },
   "file_extension": ".py",
   "mimetype": "text/x-python",
   "name": "python",
   "nbconvert_exporter": "python",
   "pygments_lexer": "ipython3",
   "version": "3.8.5"
  }
 },
 "nbformat": 4,
 "nbformat_minor": 4
}
