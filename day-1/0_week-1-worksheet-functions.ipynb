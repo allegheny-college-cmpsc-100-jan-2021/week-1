{
 "cells": [
  {
   "cell_type": "markdown",
   "metadata": {},
   "source": [
    "# Worksheet 1.1.0: Functions\n",
    "\n",
    "<div class=\"alert alert-block alert-info\">\n",
    "    This worksheet implements to-do markers where work needs to be completed. In some cases, this means that you'll need to add a line or two to an example. In other cases (such as the final exercise), you may need to solve an entire problem.\n",
    "</div>\n",
    "\n",
    "# `def`initely\n",
    "\n",
    "While we've used different _functions_ (`str`,`ord`,`int`,`print`, for example), many have been the so-called \"built-ins\" that come with Python. We don't see the code behind these functions because they're squirreled away in internal Python structure. However, we have seen one special user-defined function \"in the wild\" -- recall `Week 1`:\n",
    "\n",
    "```python\n",
    "# IGNORE THIS #\n",
    "def open_box(combo):\n",
    "    vals = [2, 6, 3]\n",
    "    pts = [a * b for a, b in zip(vals, combo)]\n",
    "    return sum(pts)\n",
    "# IGNORE THIS #\n",
    "```"
   ]
  },
  {
   "cell_type": "markdown",
   "metadata": {},
   "source": [
    "The above essentially packages and names instructions. At its most basic, that's what a function is -- a bundle of instructions with a convenient name attached to it. We could also draw a parallel between functions and variables; after all, they both essentially store some product of expressions. However, the key difference is that functions store _procedures_. In the above, the procedure is to print out the values of all of the variables at work in our program.\n",
    "\n",
    "The syntax, though a bit different from `while`, `for`, or `if` statements, behaves the same way with respect to _indentation_ -- anything indented one level (4 spaces) beneath the function's _declaration_ belongs to that function. The general pattern of _declaration_ follows:\n",
    "\n",
    "```python\n",
    "# definition keyword\n",
    "# |\n",
    "# |     label for (name of) function\n",
    "# |       |\n",
    "# |       |   parameters -- must be present even if there are none\n",
    "# |       |       |\n",
    "def FUNCTION_NAME():\n",
    "    # expressions\n",
    "    # statements\n",
    "    return #variable or expression\n",
    "#     |\n",
    "#   return statement\n",
    "```\n",
    "\n",
    "The necessary parts here being:\n",
    "\n",
    "* the _declaration_ (`def FUNCTION_NAME():`)\n",
    "* the _parameters_ (the `()` in the above)\n",
    "* a `return` statement (though not always _required_, technically)\n",
    "\n",
    "Here's a simple function we can use to print a regular string:"
   ]
  },
  {
   "cell_type": "code",
   "execution_count": 1,
   "metadata": {},
   "outputs": [
    {
     "name": "stdout",
     "output_type": "stream",
     "text": [
      "Hello, world!\n"
     ]
    }
   ],
   "source": [
    "def hello_world():\n",
    "    return \"Hello, world!\"\n",
    "\n",
    "print(hello_world())"
   ]
  },
  {
   "cell_type": "markdown",
   "metadata": {},
   "source": [
    "In the above, we still respect _flow of control_, as the program runs top to bottom _until it encounters the function call_. At that point it jumps to the function, runs top to bottom _in it_ and then returns to where we left off.\n",
    "\n",
    "One key vocabulary change here is the word `parameter` -- which we can think of as the opposite of `arguments`. In the following scenario, we see both:\n",
    "\n",
    "```python\n",
    "#          parameters\n",
    "#          |        |\n",
    "def add(addend1, addend2):\n",
    "    return addend1 + addend2 # <-- as long as an expression evaluates to a value, we can return it\n",
    "#       arguments\n",
    "#         | |\n",
    "print(add(2,2))\n",
    "```\n",
    "\n",
    "### 1. In the space below, finish the following function, given what we've learned so far.\n",
    "\n",
    "This function should: \n",
    "\n",
    "* be called `square`\n",
    "* accept a number referred to as `number`\n",
    "* multiply it against itself\n",
    "* store the outcome as `product`\n",
    "* `return` the value. \n",
    "\n",
    "Use `4` and `8` as test values and finish the `f-string` below to print it."
   ]
  },
  {
   "cell_type": "code",
   "execution_count": 7,
   "metadata": {},
   "outputs": [
    {
     "name": "stdout",
     "output_type": "stream",
     "text": [
      "The square of 4 is 16\n",
      "The square of 8 is 64\n"
     ]
    }
   ],
   "source": [
    "def # TODO: Finish this declaration\n",
    "    # TODO: Multiply parameter against itself\n",
    "    # TODO: Write return statement\n",
    "\n",
    "print(f\"The square of 4 is {#TODO: Fill in with correct function call}\")\n",
    "print(f\"The square of 8 is {#TODO: Fill in with correct function call}\")"
   ]
  },
  {
   "cell_type": "markdown",
   "metadata": {},
   "source": [
    "When we _call_ (\"use\") the function, we refer to the values supplied _arguments_. When we look at the function declaration, we refer to the values in the parenthesis as _parameters_. It's quite easy to get them confused, and for this class we might end up occasionally using the terms interchangeably.\n",
    "\n",
    "But, there is something interesting about the way Python functions work. Imagine a case where we wanted to add more than 2 numbers, but didn't know how many we actually wanted to add:"
   ]
  },
  {
   "cell_type": "code",
   "execution_count": 1,
   "metadata": {},
   "outputs": [
    {
     "name": "stdout",
     "output_type": "stream",
     "text": [
      "I recieved: (2, 2, 2, 2, 2, 2, 2, 2, 2, 2, 2)\n",
      "\n",
      "The sum is: 22\n"
     ]
    }
   ],
   "source": [
    "#  Just like in a for loop, this variable\n",
    "#  is created and assigned right here.\n",
    "#           |\n",
    "def add(*addends):\n",
    "    # What did we get?\n",
    "    print(f\"I recieved: {addends}\\n\")\n",
    "    # Let's add it\n",
    "    total = 0\n",
    "    for addend in addends:\n",
    "        total += addend\n",
    "    return total\n",
    "\n",
    "print(f\"The sum is: {add(2,2,2,2,2,2,2,2,2,2,2)}\")\n",
    "\n",
    "# Also check out what we can do with f-strings in the above -- neat."
   ]
  },
  {
   "cell_type": "markdown",
   "metadata": {},
   "source": [
    "During our first data structures week, I said that we'd see `tuple`s again -- sure enough, we do! What we learn here is that functions pass things around like `tuple`s. In the case of the `*` operator in front of our variable, we automatically create a `tuple` out of all of the _arguments_ we pass to the function's _parameters_.\n",
    "\n",
    "### 2. Finish the code below to write a function that can multipy the following numbers: `4`,`8`,`15`,`16`,`23`,`42`"
   ]
  },
  {
   "cell_type": "code",
   "execution_count": 4,
   "metadata": {},
   "outputs": [
    {
     "name": "stdout",
     "output_type": "stream",
     "text": [
      "The product of the numbers is 6955200\n"
     ]
    }
   ],
   "source": [
    "def multiply(*multiplicands):\n",
    "    result = 1\n",
    "    for multiplicand in multiplicands:\n",
    "        result *= # TODO: Fill in with parameter\n",
    "    # TODO: Complete return statement\n",
    "    \n",
    "print(f\"The product of the numbers is {#TODO: Fill in with correct function call}\")"
   ]
  },
  {
   "cell_type": "markdown",
   "metadata": {},
   "source": [
    "## Polymorphism\n",
    "\n",
    "A big word, but an important idea: we can write functions in Python to _accept more than one data type or structure_. See the example below which accepts all of the data types we know thus far:"
   ]
  },
  {
   "cell_type": "code",
   "execution_count": 5,
   "metadata": {},
   "outputs": [
    {
     "name": "stdout",
     "output_type": "stream",
     "text": [
      "The list sum is: 45\n",
      "The dictionary sum is: 45\n",
      "The tuple sum is: 45\n",
      "The complicated sum is: 45\n"
     ]
    }
   ],
   "source": [
    "def add_numbers(addends):\n",
    "    sum = 0\n",
    "    for addend in addends:\n",
    "        sum += addend\n",
    "    return sum\n",
    "\n",
    "integers_list = [0, 1, 2, 3, 4, 5, 6, 7, 8, 9]\n",
    "print(f\"The list sum is: {add_numbers(integers_list)}\")\n",
    "\n",
    "integers_dict = {0, 1, 2, 3, 4, 5, 6, 7, 8, 9}\n",
    "print(f\"The dictionary sum is: {add_numbers(integers_dict)}\")\n",
    "\n",
    "integers_tuple = (0, 1, 2, 3, 4, 5, 6, 7, 8, 9)\n",
    "print(f\"The tuple sum is: {add_numbers(integers_tuple)}\")\n",
    "\n",
    "integers_complicated = {\n",
    "    0: \"Zero\",\n",
    "    1: \"One\",\n",
    "    2: \"Two\",\n",
    "    3: \"Three\",\n",
    "    4: \"Four\",\n",
    "    5: \"Five\",\n",
    "    6: \"Six\",\n",
    "    7: \"Seven\",\n",
    "    8: \"Eight\",\n",
    "    9: \"Nine\"\n",
    "}\n",
    "print(f\"The complicated sum is: {add_numbers(integers_complicated)}\")"
   ]
  },
  {
   "cell_type": "markdown",
   "metadata": {},
   "source": [
    "We notice that the _syntax_ of the `add_numbers` function demonstrates something we already know: that `for` loops can iterate over all of these constructs in the same way. So, while \"polymorphism\" is a so-called \"million dollar word,\" it's really just the practice of being able to handle different data types or structures in a standard all-encompassing/accommodating way.\n",
    "\n",
    "## Default values\n",
    "\n",
    "One of the last properties of functions is the abililty to accept _default values_:"
   ]
  },
  {
   "cell_type": "code",
   "execution_count": 6,
   "metadata": {},
   "outputs": [
    {
     "name": "stdout",
     "output_type": "stream",
     "text": [
      "The best cat name is: Bert\n",
      "The best cat name is: Ulysses\n"
     ]
    }
   ],
   "source": [
    "def best_cat_name(name=\"Ulysses\"):\n",
    "    print(f\"The best cat name is: {name}\")\n",
    "\n",
    "best_cat_name(\"Bert\")\n",
    "best_cat_name()"
   ]
  },
  {
   "cell_type": "markdown",
   "metadata": {},
   "source": [
    "Of course, if someone is undecided about what the best name is: we all know it's Ulysses.\n",
    "\n",
    "More importantly, this allows us to at least _have something_ to use in the event that there's no supplied _argument_. Here, we set the _parameter_ `name` to use \"Ulysses\" in the event that no _arguments_ are passed.\n",
    "\n",
    "## Finishing this activity\n",
    "\n",
    "Test yourself by completing the [final activity](f1_week-1-worksheet-codes.md)!"
   ]
  }
 ],
 "metadata": {
  "kernelspec": {
   "display_name": "Python 3",
   "language": "python",
   "name": "python3"
  },
  "language_info": {
   "codemirror_mode": {
    "name": "ipython",
    "version": 3
   },
   "file_extension": ".py",
   "mimetype": "text/x-python",
   "name": "python",
   "nbconvert_exporter": "python",
   "pygments_lexer": "ipython3",
   "version": "3.8.5"
  }
 },
 "nbformat": 4,
 "nbformat_minor": 4
}
